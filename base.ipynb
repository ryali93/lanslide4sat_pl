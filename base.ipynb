{
 "cells": [
  {
   "cell_type": "markdown",
   "metadata": {},
   "source": [
    "## Leer dataset"
   ]
  },
  {
   "cell_type": "code",
   "execution_count": 1,
   "metadata": {},
   "outputs": [],
   "source": [
    "import requests\n",
    "import re\n",
    "import os\n",
    "import h5py"
   ]
  },
  {
   "cell_type": "code",
   "execution_count": 3,
   "metadata": {},
   "outputs": [],
   "source": [
    "path_img = r'TrainData/img/image_5.h5'\n",
    "mask_img = r'TrainData/mask/mask_5.h5'"
   ]
  },
  {
   "cell_type": "code",
   "execution_count": 4,
   "metadata": {},
   "outputs": [],
   "source": [
    "with h5py.File(path_img, 'r') as hf_img:\n",
    "    image = hf_img['img'][:]\n",
    "\n",
    "with h5py.File(mask_img, 'r') as hf_mask:\n",
    "    label = hf_mask['mask'][:]"
   ]
  },
  {
   "cell_type": "code",
   "execution_count": 9,
   "metadata": {},
   "outputs": [
    {
     "data": {
      "text/plain": [
       "(128, 128, 14)"
      ]
     },
     "execution_count": 9,
     "metadata": {},
     "output_type": "execute_result"
    }
   ],
   "source": [
    "image.shape"
   ]
  },
  {
   "cell_type": "code",
   "execution_count": 5,
   "metadata": {},
   "outputs": [
    {
     "name": "stderr",
     "output_type": "stream",
     "text": [
      "Clipping input data to the valid range for imshow with RGB data ([0..1] for floats or [0..255] for integers).\n"
     ]
    },
    {
     "data": {
      "text/plain": [
       "<matplotlib.image.AxesImage at 0x1efe2c612e0>"
      ]
     },
     "execution_count": 5,
     "metadata": {},
     "output_type": "execute_result"
    },
    {
     "data": {
      "image/png": "[encoded data removed]",
      "text/plain": [
       "<Figure size 432x288 with 1 Axes>"
      ]
     },
     "metadata": {
      "needs_background": "light"
     },
     "output_type": "display_data"
    }
   ],
   "source": [
    "import matplotlib.pyplot as plt\n",
    "plt.imshow(image[:,:,[4,3,1]])"
   ]
  },
  {
   "cell_type": "code",
   "execution_count": 6,
   "metadata": {},
   "outputs": [
    {
     "data": {
      "text/plain": [
       "<matplotlib.image.AxesImage at 0x1efe2d742b0>"
      ]
     },
     "execution_count": 6,
     "metadata": {},
     "output_type": "execute_result"
    },
    {
     "data": {
      "image/png": "[encoded data removed]",
      "text/plain": [
       "<Figure size 432x288 with 1 Axes>"
      ]
     },
     "metadata": {
      "needs_background": "light"
     },
     "output_type": "display_data"
    }
   ],
   "source": [
    "plt.imshow(label)"
   ]
  },
  {
   "cell_type": "markdown",
   "metadata": {},
   "source": [
    "## Dataloader"
   ]
  },
  {
   "cell_type": "code",
   "execution_count": 26,
   "metadata": {},
   "outputs": [],
   "source": [
    "import numpy as np\n",
    "import torch\n",
    "from torch.utils import data\n",
    "from torch.utils.data import DataLoader\n",
    "import h5py\n",
    "\n",
    "class LandslideDataSet(data.Dataset):\n",
    "    def __init__(self, data_dir, list_path, max_iters=None, set='labeled'):\n",
    "        self.list_path = list_path\n",
    "        self.mean = [-0.4914, -0.3074, -0.1277, -0.0625, 0.0439, 0.0803, 0.0644, 0.0802, 0.3000, 0.4082, 0.0823, 0.0516, 0.3338, 0.7819]\n",
    "        self.std = [0.9325, 0.8775, 0.8860, 0.8869, 0.8857, 0.8418, 0.8354, 0.8491, 0.9061, 1.6072, 0.8848, 0.9232, 0.9018, 1.2913]\n",
    "        self.set = set\n",
    "        self.img_ids = [i_id.strip() for i_id in open(list_path)]\n",
    "        \n",
    "        if not max_iters==None:\n",
    "            n_repeat = int(np.ceil(max_iters / len(self.img_ids)))\n",
    "            self.img_ids = self.img_ids * n_repeat + self.img_ids[:max_iters-n_repeat*len(self.img_ids)]\n",
    "\n",
    "        self.files = []\n",
    "\n",
    "        if set=='labeled':\n",
    "            for name in self.img_ids:\n",
    "                img_file = data_dir + name\n",
    "                label_file = data_dir + name.replace('img','mask').replace('image','mask')\n",
    "                self.files.append({\n",
    "                    'img': img_file,\n",
    "                    'label': label_file,\n",
    "                    'name': name\n",
    "                })\n",
    "        elif set=='unlabeled':\n",
    "            for name in self.img_ids:\n",
    "                img_file = data_dir + name\n",
    "                self.files.append({\n",
    "                    'img': img_file,\n",
    "                    'name': name\n",
    "                })\n",
    "            \n",
    "    def __len__(self):\n",
    "        return len(self.files)\n",
    "\n",
    "\n",
    "    def __getitem__(self, index):\n",
    "        datafiles = self.files[index]\n",
    "        \n",
    "        if self.set=='labeled':\n",
    "            with h5py.File(datafiles['img'], 'r') as hf:\n",
    "                image = hf['img'][:]\n",
    "            with h5py.File(datafiles['label'], 'r') as hf:\n",
    "                label = hf['mask'][:]\n",
    "            name = datafiles['name']\n",
    "                \n",
    "            image = np.asarray(image, np.float32)\n",
    "            label = np.asarray(label, np.float32)\n",
    "            image = image.transpose((-1, 0, 1))\n",
    "            size = image.shape\n",
    "\n",
    "            for i in range(len(self.mean)):\n",
    "                image[i,:,:] -= self.mean[i]\n",
    "                image[i,:,:] /= self.std[i]\n",
    "\n",
    "            return image.copy(), label.copy(), np.array(size), name\n",
    "\n",
    "        else:\n",
    "            with h5py.File(datafiles['img'], 'r') as hf:\n",
    "                image = hf['img'][:]\n",
    "            name = datafiles['name']\n",
    "                \n",
    "            image = np.asarray(image, np.float32)\n",
    "            image = image.transpose((-1, 0, 1))\n",
    "            size = image.shape\n",
    "\n",
    "            for i in range(len(self.mean)):\n",
    "                image[i,:,:] -= self.mean[i]\n",
    "                image[i,:,:] /= self.std[i]\n",
    "\n",
    "            return image.copy(), np.array(size), name"
   ]
  },
  {
   "cell_type": "code",
   "execution_count": 30,
   "metadata": {},
   "outputs": [],
   "source": [
    "train_dataset = LandslideDataSet(data_dir=r'', list_path=r'dataset/train.txt') # data_dir='/scratch/Land4Sense_Competition/', \n",
    "train_loader = DataLoader(dataset=train_dataset, batch_size=1, shuffle=True, pin_memory=True)"
   ]
  },
  {
   "cell_type": "code",
   "execution_count": 31,
   "metadata": {},
   "outputs": [
    {
     "name": "stdout",
     "output_type": "stream",
     "text": [
      "tensor([1.5197, 1.4018, 1.2210, 1.1525, 1.1052, 1.1432, 1.1628, 1.1383, 0.9601,\n",
      "        0.4762, 1.0931, 1.0674, 1.0172, 0.6719]) tensor([0.1512, 0.2515, 0.3594, 0.6454, 0.5195, 0.5304, 0.5567, 0.5828, 0.5665,\n",
      "        0.4253, 0.6016, 0.7179, 0.7522, 0.8307])\n"
     ]
    }
   ],
   "source": [
    "channels_sum,channel_squared_sum = 0,0\n",
    "num_batches = len(train_loader)\n",
    "for data,_,_,_ in train_loader:\n",
    "    channels_sum += torch.mean(data,dim=[0,2,3])   \n",
    "    channel_squared_sum += torch.mean(data**2,dim=[0,2,3])       \n",
    "\n",
    "mean = channels_sum/num_batches\n",
    "std = (channel_squared_sum/num_batches - mean**2)**0.5\n",
    "print(mean,std) "
   ]
  },
  {
   "cell_type": "code",
   "execution_count": null,
   "metadata": {},
   "outputs": [],
   "source": []
  }
 ],
 "metadata": {
  "kernelspec": {
   "display_name": "Python 3.8.10 64-bit ('venv': venv)",
   "language": "python",
   "name": "python3"
  },
  "language_info": {
   "codemirror_mode": {
    "name": "ipython",
    "version": 3
   },
   "file_extension": ".py",
   "mimetype": "text/x-python",
   "name": "python",
   "nbconvert_exporter": "python",
   "pygments_lexer": "ipython3",
   "version": "3.8.10"
  },
  "orig_nbformat": 4,
  "vscode": {
   "interpreter": {
    "hash": "2d22842d54a7ea5f16f58a4e56a58ac8809f2e07dd9359b04312ace11248964c"
   }
  }
 },
 "nbformat": 4,
 "nbformat_minor": 2
}
